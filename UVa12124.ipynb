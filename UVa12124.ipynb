{
 "cells": [
  {
   "cell_type": "code",
   "execution_count": 11,
   "metadata": {},
   "outputs": [],
   "source": [
    "path = \"/home/lab/Downloads/12124.in\"\n",
    "fp = open(path,\"r\")"
   ]
  },
  {
   "cell_type": "code",
   "execution_count": 12,
   "metadata": {},
   "outputs": [
    {
     "name": "stdout",
     "output_type": "stream",
     "text": [
      "T0dr_ NyUOd 6 91\n",
      "\n"
     ]
    }
   ],
   "source": [
    "cases = int(fp.readline())\n",
    "for i in range(0,cases):\n",
    "    components = []\n",
    "    price = []\n",
    "    quality = []\n",
    "    kinds = 0\n",
    "    buffer = fp.readline()\n",
    "    buffer = buffer.split(\" \")\n",
    "    n,budget =int(buffer[0]) , int(buffer[1])\n",
    "    for j in range(0,n):\n",
    "        buffer = fp.readline()\n",
    "        buffer = buffer.split(\" \")\n",
    "        components = compoments.append(buffer[0])\n",
    "        price = price.append(int(buffer[2]))\n",
    "        quality = quality.append(int(buffer[3]))\n",
    "    _list = []\n",
    "    \n",
    "    "
   ]
  },
  {
   "cell_type": "code",
   "execution_count": null,
   "metadata": {},
   "outputs": [],
   "source": []
  }
 ],
 "metadata": {
  "kernelspec": {
   "display_name": "Python 3",
   "language": "python",
   "name": "python3"
  },
  "language_info": {
   "codemirror_mode": {
    "name": "ipython",
    "version": 3
   },
   "file_extension": ".py",
   "mimetype": "text/x-python",
   "name": "python",
   "nbconvert_exporter": "python",
   "pygments_lexer": "ipython3",
   "version": "3.7.4"
  }
 },
 "nbformat": 4,
 "nbformat_minor": 2
}
