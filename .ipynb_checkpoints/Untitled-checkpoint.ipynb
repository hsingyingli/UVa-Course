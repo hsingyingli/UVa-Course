{
 "cells": [
  {
   "cell_type": "code",
   "execution_count": 1,
   "metadata": {},
   "outputs": [],
   "source": [
    "import numpy as np"
   ]
  },
  {
   "cell_type": "code",
   "execution_count": 111,
   "metadata": {},
   "outputs": [],
   "source": [
    "def GE(a,b):\n",
    "    m,n = a.shape   # shape of a\n",
    "    matrix = np.zeros([m,n+1])\n",
    "    matrix[:,:n] = a\n",
    "    matrix[:,n:] = b\n",
    "    for i in range(n):\n",
    "  \n",
    "        for k in range(i+1,m):\n",
    "            matrix[k] = matrix[k] - matrix[i] * float(matrix[k][i]/matrix[i][i])\n",
    "    #solve x \n",
    "    for i in range(n-1,0,-1):\n",
    "        for j in range(i-1,-1,-1):\n",
    "            matrix[j] = matrix[j] - matrix[i] * float(matrix[j][i]/matrix[i][i])\n",
    "    x = []\n",
    "    for i in range(m):\n",
    "        x.append(matrix[i][n] / matrix[i][i])\n",
    "    return x"
   ]
  },
  {
   "cell_type": "code",
   "execution_count": 114,
   "metadata": {},
   "outputs": [
    {
     "name": "stdout",
     "output_type": "stream",
     "text": [
      "Real x :  [1 4 9]\n",
      "Gaussian Elimination X: [1.000000000000006, 3.999999999999993, 8.999999999999998]\n"
     ]
    }
   ],
   "source": [
    "n = 3\n",
    "\n",
    "a = np.random.randint(10,size = (n,n))\n",
    "x = np.random.randint(10,size = (n,1))\n",
    "b = a.dot(x)\n",
    "\n",
    "print(\"Real x : \",x.reshape(-1))\n",
    "print(\"Gaussian Elimination X:\",GE(a,b))\n"
   ]
  },
  {
   "cell_type": "code",
   "execution_count": null,
   "metadata": {},
   "outputs": [],
   "source": []
  }
 ],
 "metadata": {
  "kernelspec": {
   "display_name": "Python 3",
   "language": "python",
   "name": "python3"
  },
  "language_info": {
   "codemirror_mode": {
    "name": "ipython",
    "version": 3
   },
   "file_extension": ".py",
   "mimetype": "text/x-python",
   "name": "python",
   "nbconvert_exporter": "python",
   "pygments_lexer": "ipython3",
   "version": "3.6.10"
  }
 },
 "nbformat": 4,
 "nbformat_minor": 4
}
